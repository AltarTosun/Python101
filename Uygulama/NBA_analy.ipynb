{
 "cells": [
  {
   "cell_type": "code",
   "execution_count": 4,
   "metadata": {},
   "outputs": [],
   "source": [
    "#Dear Student,\n",
    "#\n",
    "#Welcome to the world of Basketball Data!\n",
    "#I'm sure you will enjoy this section of the Python Programming course.\n",
    "#\n",
    "#Instructions for this dataset:\n",
    "# Simply copy ALL the lines in this script by pressing \n",
    "# CTRL+A on Windows or CMND+A on Mac and run the Jupyter cell\n",
    "# Once you have executed the commands the following objects\n",
    "# will be created:\n",
    "# Matrices:\n",
    "# - Salary\n",
    "# - Games\n",
    "# - MinutesPlayed\n",
    "# - FieldGoals\n",
    "# - FieldGoalAttempts\n",
    "# - Points\n",
    "# Lists:\n",
    "# - Players\n",
    "# - Seasons\n",
    "# Dictionaries:\n",
    "# - Sdict\n",
    "# - Pdict\n",
    "#We will understand these inside the course.\n",
    "#\n",
    "#Sincerely,\n",
    "#Kirill Eremenko\n",
    "#www.superdatascience.com\n",
    "\n",
    "#Copyright: These datasets were prepared using publicly available data.\n",
    "#           However, theses scripts are subject to Copyright Laws. \n",
    "#           If you wish to use these Python scripts outside of the Python Programming Course\n",
    "#           by Kirill Eremenko, you may do so by referencing www.superdatascience.com in your work.\n",
    "\n",
    "#Comments:\n",
    "#Seasons are labeled based on the first year in the season\n",
    "#E.g. the 2012-2013 season is preseneted as simply 2012\n",
    "\n",
    "#Notes and Corrections to the data:\n",
    "#Kevin Durant: 2006 - College Data Used\n",
    "#Kevin Durant: 2005 - Proxied With 2006 Data\n",
    "#Derrick Rose: 2012 - Did Not Play\n",
    "#Derrick Rose: 2007 - College Data Used\n",
    "#Derrick Rose: 2006 - Proxied With 2007 Data\n",
    "#Derrick Rose: 2005 - Proxied With 2007 Data\n",
    "\n",
    "#Import numpy\n",
    "import numpy as np\n",
    "\n",
    "#Seasons\n",
    "Seasons = [\"2005\",\"2006\",\"2007\",\"2008\",\"2009\",\"2010\",\"2011\",\"2012\",\"2013\",\"2014\"]\n",
    "Sdict = {\"2005\":0,\"2006\":1,\"2007\":2,\"2008\":3,\"2009\":4,\"2010\":5,\"2011\":6,\"2012\":7,\"2013\":8,\"2014\":9}\n",
    "\n",
    "#Players\n",
    "Players = [\"KobeBryant\",\"JoeJohnson\",\"LeBronJames\",\"CarmeloAnthony\",\"DwightHoward\",\"ChrisBosh\",\"ChrisPaul\",\"KevinDurant\",\"DerrickRose\",\"DwayneWade\"]\n",
    "Pdict = {\"KobeBryant\":0,\"JoeJohnson\":1,\"LeBronJames\":2,\"CarmeloAnthony\":3,\"DwightHoward\":4,\"ChrisBosh\":5,\"ChrisPaul\":6,\"KevinDurant\":7,\"DerrickRose\":8,\"DwayneWade\":9}\n",
    "\n",
    "#Salaries\n",
    "KobeBryant_Salary = [15946875,17718750,19490625,21262500,23034375,24806250,25244493,27849149,30453805,23500000]\n",
    "JoeJohnson_Salary = [12000000,12744189,13488377,14232567,14976754,16324500,18038573,19752645,21466718,23180790]\n",
    "LeBronJames_Salary = [4621800,5828090,13041250,14410581,15779912,14500000,16022500,17545000,19067500,20644400]\n",
    "CarmeloAnthony_Salary = [3713640,4694041,13041250,14410581,15779912,17149243,18518574,19450000,22407474,22458000]\n",
    "DwightHoward_Salary = [4493160,4806720,6061274,13758000,15202590,16647180,18091770,19536360,20513178,21436271]\n",
    "ChrisBosh_Salary = [3348000,4235220,12455000,14410581,15779912,14500000,16022500,17545000,19067500,20644400]\n",
    "ChrisPaul_Salary = [3144240,3380160,3615960,4574189,13520500,14940153,16359805,17779458,18668431,20068563]\n",
    "KevinDurant_Salary = [0,0,4171200,4484040,4796880,6053663,15506632,16669630,17832627,18995624]\n",
    "DerrickRose_Salary = [0,0,0,4822800,5184480,5546160,6993708,16402500,17632688,18862875]\n",
    "DwayneWade_Salary = [3031920,3841443,13041250,14410581,15779912,14200000,15691000,17182000,18673000,15000000]\n",
    "#Matrix\n",
    "Salary = np.array([KobeBryant_Salary, JoeJohnson_Salary, LeBronJames_Salary, CarmeloAnthony_Salary, DwightHoward_Salary, ChrisBosh_Salary, ChrisPaul_Salary, KevinDurant_Salary, DerrickRose_Salary, DwayneWade_Salary])\n",
    "\n",
    "#Games \n",
    "KobeBryant_G = [80,77,82,82,73,82,58,78,6,35]\n",
    "JoeJohnson_G = [82,57,82,79,76,72,60,72,79,80]\n",
    "LeBronJames_G = [79,78,75,81,76,79,62,76,77,69]\n",
    "CarmeloAnthony_G = [80,65,77,66,69,77,55,67,77,40]\n",
    "DwightHoward_G = [82,82,82,79,82,78,54,76,71,41]\n",
    "ChrisBosh_G = [70,69,67,77,70,77,57,74,79,44]\n",
    "ChrisPaul_G = [78,64,80,78,45,80,60,70,62,82]\n",
    "KevinDurant_G = [35,35,80,74,82,78,66,81,81,27]\n",
    "DerrickRose_G = [40,40,40,81,78,81,39,0,10,51]\n",
    "DwayneWade_G = [75,51,51,79,77,76,49,69,54,62]\n",
    "#Matrix\n",
    "Games = np.array([KobeBryant_G, JoeJohnson_G, LeBronJames_G, CarmeloAnthony_G, DwightHoward_G, ChrisBosh_G, ChrisPaul_G, KevinDurant_G, DerrickRose_G, DwayneWade_G])\n",
    "\n",
    "#Minutes Played\n",
    "KobeBryant_MP = [3277,3140,3192,2960,2835,2779,2232,3013,177,1207]\n",
    "JoeJohnson_MP = [3340,2359,3343,3124,2886,2554,2127,2642,2575,2791]\n",
    "LeBronJames_MP = [3361,3190,3027,3054,2966,3063,2326,2877,2902,2493]\n",
    "CarmeloAnthony_MP = [2941,2486,2806,2277,2634,2751,1876,2482,2982,1428]\n",
    "DwightHoward_MP = [3021,3023,3088,2821,2843,2935,2070,2722,2396,1223]\n",
    "ChrisBosh_MP = [2751,2658,2425,2928,2526,2795,2007,2454,2531,1556]\n",
    "ChrisPaul_MP = [2808,2353,3006,3002,1712,2880,2181,2335,2171,2857]\n",
    "KevinDurant_MP = [1255,1255,2768,2885,3239,3038,2546,3119,3122,913]\n",
    "DerrickRose_MP = [1168,1168,1168,3000,2871,3026,1375,0,311,1530]\n",
    "DwayneWade_MP = [2892,1931,1954,3048,2792,2823,1625,2391,1775,1971]\n",
    "#Matrix\n",
    "MinutesPlayed = np.array([KobeBryant_MP, JoeJohnson_MP, LeBronJames_MP, CarmeloAnthony_MP, DwightHoward_MP, ChrisBosh_MP, ChrisPaul_MP, KevinDurant_MP, DerrickRose_MP, DwayneWade_MP])\n",
    "\n",
    "#Field Goals\n",
    "KobeBryant_FG = [978,813,775,800,716,740,574,738,31,266]\n",
    "JoeJohnson_FG = [632,536,647,620,635,514,423,445,462,446]\n",
    "LeBronJames_FG = [875,772,794,789,768,758,621,765,767,624]\n",
    "CarmeloAnthony_FG = [756,691,728,535,688,684,441,669,743,358]\n",
    "DwightHoward_FG = [468,526,583,560,510,619,416,470,473,251]\n",
    "ChrisBosh_FG = [549,543,507,615,600,524,393,485,492,343]\n",
    "ChrisPaul_FG = [407,381,630,631,314,430,425,412,406,568]\n",
    "KevinDurant_FG = [306,306,587,661,794,711,643,731,849,238]\n",
    "DerrickRose_FG = [208,208,208,574,672,711,302,0,58,338]\n",
    "DwayneWade_FG = [699,472,439,854,719,692,416,569,415,509]\n",
    "#Matrix\n",
    "FieldGoals  = np.array([KobeBryant_FG, JoeJohnson_FG, LeBronJames_FG, CarmeloAnthony_FG, DwightHoward_FG, ChrisBosh_FG, ChrisPaul_FG, KevinDurant_FG, DerrickRose_FG, DwayneWade_FG])\n",
    "\n",
    "#Field Goal Attempts\n",
    "KobeBryant_FGA = [2173,1757,1690,1712,1569,1639,1336,1595,73,713]\n",
    "JoeJohnson_FGA = [1395,1139,1497,1420,1386,1161,931,1052,1018,1025]\n",
    "LeBronJames_FGA = [1823,1621,1642,1613,1528,1485,1169,1354,1353,1279]\n",
    "CarmeloAnthony_FGA = [1572,1453,1481,1207,1502,1503,1025,1489,1643,806]\n",
    "DwightHoward_FGA = [881,873,974,979,834,1044,726,813,800,423]\n",
    "ChrisBosh_FGA = [1087,1094,1027,1263,1158,1056,807,907,953,745]\n",
    "ChrisPaul_FGA = [947,871,1291,1255,637,928,890,856,870,1170]\n",
    "KevinDurant_FGA = [647,647,1366,1390,1668,1538,1297,1433,1688,467]\n",
    "DerrickRose_FGA = [436,436,436,1208,1373,1597,695,0,164,835]\n",
    "DwayneWade_FGA = [1413,962,937,1739,1511,1384,837,1093,761,1084]\n",
    "#Matrix\n",
    "FieldGoalAttempts = np.array([KobeBryant_FGA, JoeJohnson_FGA, LeBronJames_FGA, CarmeloAnthony_FGA, DwightHoward_FGA, ChrisBosh_FGA, ChrisPaul_FGA, KevinDurant_FGA, DerrickRose_FGA, DwayneWade_FGA])\n",
    "\n",
    "#Points\n",
    "KobeBryant_PTS = [2832,2430,2323,2201,1970,2078,1616,2133,83,782]\n",
    "JoeJohnson_PTS = [1653,1426,1779,1688,1619,1312,1129,1170,1245,1154]\n",
    "LeBronJames_PTS = [2478,2132,2250,2304,2258,2111,1683,2036,2089,1743]\n",
    "CarmeloAnthony_PTS = [2122,1881,1978,1504,1943,1970,1245,1920,2112,966]\n",
    "DwightHoward_PTS = [1292,1443,1695,1624,1503,1784,1113,1296,1297,646]\n",
    "ChrisBosh_PTS = [1572,1561,1496,1746,1678,1438,1025,1232,1281,928]\n",
    "ChrisPaul_PTS = [1258,1104,1684,1781,841,1268,1189,1186,1185,1564]\n",
    "KevinDurant_PTS = [903,903,1624,1871,2472,2161,1850,2280,2593,686]\n",
    "DerrickRose_PTS = [597,597,597,1361,1619,2026,852,0,159,904]\n",
    "DwayneWade_PTS = [2040,1397,1254,2386,2045,1941,1082,1463,1028,1331]\n",
    "#Matrix\n",
    "Points = np.array([KobeBryant_PTS, JoeJohnson_PTS, LeBronJames_PTS, CarmeloAnthony_PTS, DwightHoward_PTS, ChrisBosh_PTS, ChrisPaul_PTS, KevinDurant_PTS, DerrickRose_PTS, DwayneWade_PTS])             \n",
    "                  "
   ]
  },
  {
   "cell_type": "code",
   "execution_count": 5,
   "metadata": {},
   "outputs": [
    {
     "data": {
      "text/plain": [
       "array([[80, 77, 82, 82, 73, 82, 58, 78,  6, 35],\n",
       "       [82, 57, 82, 79, 76, 72, 60, 72, 79, 80],\n",
       "       [79, 78, 75, 81, 76, 79, 62, 76, 77, 69],\n",
       "       [80, 65, 77, 66, 69, 77, 55, 67, 77, 40],\n",
       "       [82, 82, 82, 79, 82, 78, 54, 76, 71, 41],\n",
       "       [70, 69, 67, 77, 70, 77, 57, 74, 79, 44],\n",
       "       [78, 64, 80, 78, 45, 80, 60, 70, 62, 82],\n",
       "       [35, 35, 80, 74, 82, 78, 66, 81, 81, 27],\n",
       "       [40, 40, 40, 81, 78, 81, 39,  0, 10, 51],\n",
       "       [75, 51, 51, 79, 77, 76, 49, 69, 54, 62]])"
      ]
     },
     "execution_count": 5,
     "metadata": {},
     "output_type": "execute_result"
    }
   ],
   "source": [
    "Games"
   ]
  },
  {
   "cell_type": "code",
   "execution_count": 6,
   "metadata": {},
   "outputs": [
    {
     "name": "stdout",
     "output_type": "stream",
     "text": [
      "[ 0  1  2  3  4  5  6  7  8  9 10 11 12 13 14 15 16 17 18 19]\n"
     ]
    },
    {
     "data": {
      "text/plain": [
       "numpy.ndarray"
      ]
     },
     "execution_count": 6,
     "metadata": {},
     "output_type": "execute_result"
    }
   ],
   "source": [
    "import numpy as np\n",
    "mydata = np.arange(0,20)\n",
    "print(mydata)\n",
    "type(mydata)"
   ]
  },
  {
   "cell_type": "code",
   "execution_count": 7,
   "metadata": {},
   "outputs": [],
   "source": [
    "#MATR = np.reshape(mydata, (5,4)) #default C #mydata zaten bir np nesnesi\n",
    "MATR = mydata.reshape (5,4)"
   ]
  },
  {
   "cell_type": "code",
   "execution_count": 8,
   "metadata": {},
   "outputs": [
    {
     "data": {
      "text/plain": [
       "array([[ 0,  5, 10, 15],\n",
       "       [ 1,  6, 11, 16],\n",
       "       [ 2,  7, 12, 17],\n",
       "       [ 3,  8, 13, 18],\n",
       "       [ 4,  9, 14, 19]])"
      ]
     },
     "execution_count": 8,
     "metadata": {},
     "output_type": "execute_result"
    }
   ],
   "source": [
    "MATR1 = np.reshape(mydata, (5,4), 'F')\n",
    "#MATR1 = mydata.reshape((5,4), 'F') neden olmuyor??\n",
    "MATR1"
   ]
  },
  {
   "cell_type": "code",
   "execution_count": 9,
   "metadata": {},
   "outputs": [
    {
     "data": {
      "text/plain": [
       "array([[ 0,  1,  2,  3],\n",
       "       [ 4,  5,  6,  7],\n",
       "       [ 8,  9, 10, 11],\n",
       "       [12, 13, 14, 15],\n",
       "       [16, 17, 18, 19]])"
      ]
     },
     "execution_count": 9,
     "metadata": {},
     "output_type": "execute_result"
    }
   ],
   "source": [
    "MATR"
   ]
  },
  {
   "cell_type": "code",
   "execution_count": 10,
   "metadata": {},
   "outputs": [
    {
     "data": {
      "text/plain": [
       "10"
      ]
     },
     "execution_count": 10,
     "metadata": {},
     "output_type": "execute_result"
    }
   ],
   "source": [
    "MATR[2,2] #MATR[2][2] de olur"
   ]
  },
  {
   "cell_type": "markdown",
   "metadata": {},
   "source": [
    "---"
   ]
  },
  {
   "cell_type": "code",
   "execution_count": 11,
   "metadata": {},
   "outputs": [],
   "source": [
    "r1 = ['I', 'am', 'happy']\n",
    "r2 = ['What', 'a', 'day']\n",
    "r3 = [1,2,3]"
   ]
  },
  {
   "cell_type": "code",
   "execution_count": 12,
   "metadata": {},
   "outputs": [
    {
     "data": {
      "text/plain": [
       "[['I', 'am', 'happy'], ['What', 'a', 'day'], [1, 2, 3]]"
      ]
     },
     "execution_count": 12,
     "metadata": {},
     "output_type": "execute_result"
    }
   ],
   "source": [
    "[r1, r2, r3]"
   ]
  },
  {
   "cell_type": "code",
   "execution_count": 13,
   "metadata": {},
   "outputs": [],
   "source": [
    "a = np.array([r1,r2,r3])"
   ]
  },
  {
   "cell_type": "code",
   "execution_count": 14,
   "metadata": {},
   "outputs": [
    {
     "name": "stdout",
     "output_type": "stream",
     "text": [
      "[['I' 'am' 'happy']\n",
      " ['What' 'a' 'day']\n",
      " ['1' '2' '3']]\n"
     ]
    }
   ],
   "source": [
    "print(a)"
   ]
  },
  {
   "cell_type": "code",
   "execution_count": 15,
   "metadata": {},
   "outputs": [
    {
     "data": {
      "text/plain": [
       "'2'"
      ]
     },
     "execution_count": 15,
     "metadata": {},
     "output_type": "execute_result"
    }
   ],
   "source": [
    "a[2,1]"
   ]
  },
  {
   "cell_type": "code",
   "execution_count": 16,
   "metadata": {},
   "outputs": [],
   "source": [
    "#np.array listeleri eger indis sayilari birbiri ile uyumlu ise matrise cevirir\n",
    "#yoksa list of lists yapar\n",
    "# array yani dizi icinde bir turde degisken old icin int ler str ye cevirilir "
   ]
  },
  {
   "cell_type": "markdown",
   "metadata": {},
   "source": [
    "---"
   ]
  },
  {
   "cell_type": "code",
   "execution_count": 17,
   "metadata": {},
   "outputs": [],
   "source": [
    "#Dictionaries \n",
    "#matris indislerine isim verme gibi"
   ]
  },
  {
   "cell_type": "code",
   "execution_count": 18,
   "metadata": {},
   "outputs": [
    {
     "data": {
      "text/plain": [
       "array([[80, 77, 82, 82, 73, 82, 58, 78,  6, 35],\n",
       "       [82, 57, 82, 79, 76, 72, 60, 72, 79, 80],\n",
       "       [79, 78, 75, 81, 76, 79, 62, 76, 77, 69],\n",
       "       [80, 65, 77, 66, 69, 77, 55, 67, 77, 40],\n",
       "       [82, 82, 82, 79, 82, 78, 54, 76, 71, 41],\n",
       "       [70, 69, 67, 77, 70, 77, 57, 74, 79, 44],\n",
       "       [78, 64, 80, 78, 45, 80, 60, 70, 62, 82],\n",
       "       [35, 35, 80, 74, 82, 78, 66, 81, 81, 27],\n",
       "       [40, 40, 40, 81, 78, 81, 39,  0, 10, 51],\n",
       "       [75, 51, 51, 79, 77, 76, 49, 69, 54, 62]])"
      ]
     },
     "execution_count": 18,
     "metadata": {},
     "output_type": "execute_result"
    }
   ],
   "source": [
    "Games"
   ]
  },
  {
   "cell_type": "code",
   "execution_count": 19,
   "metadata": {},
   "outputs": [
    {
     "data": {
      "text/plain": [
       "array([80, 77, 82, 82, 73, 82, 58, 78,  6, 35])"
      ]
     },
     "execution_count": 19,
     "metadata": {},
     "output_type": "execute_result"
    }
   ],
   "source": [
    "Games[0] #ilk satir"
   ]
  },
  {
   "cell_type": "code",
   "execution_count": 20,
   "metadata": {},
   "outputs": [
    {
     "data": {
      "text/plain": [
       "array([80, 82, 79, 80, 82, 70, 78, 35, 40, 75])"
      ]
     },
     "execution_count": 20,
     "metadata": {},
     "output_type": "execute_result"
    }
   ],
   "source": [
    "Games[:,0] #ilk sütun"
   ]
  },
  {
   "cell_type": "markdown",
   "metadata": {},
   "source": [
    "---"
   ]
  },
  {
   "cell_type": "code",
   "execution_count": 21,
   "metadata": {},
   "outputs": [],
   "source": [
    "dict1 = {'key1':'val1', 'key2':'val2', 'key3':'val3'}"
   ]
  },
  {
   "cell_type": "code",
   "execution_count": 22,
   "metadata": {},
   "outputs": [
    {
     "data": {
      "text/plain": [
       "dict"
      ]
     },
     "execution_count": 22,
     "metadata": {},
     "output_type": "execute_result"
    }
   ],
   "source": [
    "type(dict1)"
   ]
  },
  {
   "cell_type": "code",
   "execution_count": 23,
   "metadata": {},
   "outputs": [
    {
     "data": {
      "text/plain": [
       "'val2'"
      ]
     },
     "execution_count": 23,
     "metadata": {},
     "output_type": "execute_result"
    }
   ],
   "source": [
    "dict1['key2']"
   ]
  },
  {
   "cell_type": "code",
   "execution_count": 24,
   "metadata": {},
   "outputs": [
    {
     "data": {
      "text/plain": [
       "{'key1': 'val1', 'key2': 'val2', 'key3': 'val3'}"
      ]
     },
     "execution_count": 24,
     "metadata": {},
     "output_type": "execute_result"
    }
   ],
   "source": [
    "dict1"
   ]
  },
  {
   "cell_type": "code",
   "execution_count": 25,
   "metadata": {},
   "outputs": [
    {
     "data": {
      "text/plain": [
       "{'France': 2, 'Germany': 'I have been here', 'Spain': True}"
      ]
     },
     "execution_count": 25,
     "metadata": {},
     "output_type": "execute_result"
    }
   ],
   "source": [
    "dict2 = {'Germany' : 'I have been here', 'France' :2, 'Spain' : True}\n",
    "dict2"
   ]
  },
  {
   "cell_type": "code",
   "execution_count": 26,
   "metadata": {},
   "outputs": [],
   "source": [
    "#siralamasi degisti ama bunun bir onemi yok cunku zaten key ile ulasiyoruz "
   ]
  },
  {
   "cell_type": "code",
   "execution_count": 27,
   "metadata": {},
   "outputs": [
    {
     "data": {
      "text/plain": [
       "2"
      ]
     },
     "execution_count": 27,
     "metadata": {},
     "output_type": "execute_result"
    }
   ],
   "source": [
    "dict2['France']"
   ]
  },
  {
   "cell_type": "markdown",
   "metadata": {},
   "source": [
    "---"
   ]
  },
  {
   "cell_type": "code",
   "execution_count": 28,
   "metadata": {},
   "outputs": [
    {
     "data": {
      "text/plain": [
       "array([[80, 77, 82, 82, 73, 82, 58, 78,  6, 35],\n",
       "       [82, 57, 82, 79, 76, 72, 60, 72, 79, 80],\n",
       "       [79, 78, 75, 81, 76, 79, 62, 76, 77, 69],\n",
       "       [80, 65, 77, 66, 69, 77, 55, 67, 77, 40],\n",
       "       [82, 82, 82, 79, 82, 78, 54, 76, 71, 41],\n",
       "       [70, 69, 67, 77, 70, 77, 57, 74, 79, 44],\n",
       "       [78, 64, 80, 78, 45, 80, 60, 70, 62, 82],\n",
       "       [35, 35, 80, 74, 82, 78, 66, 81, 81, 27],\n",
       "       [40, 40, 40, 81, 78, 81, 39,  0, 10, 51],\n",
       "       [75, 51, 51, 79, 77, 76, 49, 69, 54, 62]])"
      ]
     },
     "execution_count": 28,
     "metadata": {},
     "output_type": "execute_result"
    }
   ],
   "source": [
    "Games"
   ]
  },
  {
   "cell_type": "code",
   "execution_count": 29,
   "metadata": {},
   "outputs": [
    {
     "data": {
      "text/plain": [
       "0"
      ]
     },
     "execution_count": 29,
     "metadata": {},
     "output_type": "execute_result"
    }
   ],
   "source": [
    "Pdict['KobeBryant']"
   ]
  },
  {
   "cell_type": "code",
   "execution_count": 30,
   "metadata": {},
   "outputs": [
    {
     "data": {
      "text/plain": [
       "8"
      ]
     },
     "execution_count": 30,
     "metadata": {},
     "output_type": "execute_result"
    }
   ],
   "source": [
    "Pdict['DerrickRose']"
   ]
  },
  {
   "cell_type": "code",
   "execution_count": 31,
   "metadata": {},
   "outputs": [
    {
     "data": {
      "text/plain": [
       "array([80, 77, 82, 82, 73, 82, 58, 78,  6, 35])"
      ]
     },
     "execution_count": 31,
     "metadata": {},
     "output_type": "execute_result"
    }
   ],
   "source": [
    "Games[Pdict['KobeBryant']]"
   ]
  },
  {
   "cell_type": "code",
   "execution_count": 32,
   "metadata": {},
   "outputs": [
    {
     "data": {
      "text/plain": [
       "array([40, 40, 40, 81, 78, 81, 39,  0, 10, 51])"
      ]
     },
     "execution_count": 32,
     "metadata": {},
     "output_type": "execute_result"
    }
   ],
   "source": [
    "Games[Pdict['DerrickRose']]"
   ]
  },
  {
   "cell_type": "code",
   "execution_count": 33,
   "metadata": {},
   "outputs": [
    {
     "data": {
      "text/plain": [
       "35"
      ]
     },
     "execution_count": 33,
     "metadata": {},
     "output_type": "execute_result"
    }
   ],
   "source": [
    "Games[Pdict['KobeBryant'], Sdict['2014']]"
   ]
  },
  {
   "cell_type": "markdown",
   "metadata": {},
   "source": [
    "---"
   ]
  },
  {
   "cell_type": "code",
   "execution_count": 34,
   "metadata": {},
   "outputs": [],
   "source": [
    "#Matrix Operations"
   ]
  },
  {
   "cell_type": "code",
   "execution_count": 40,
   "metadata": {},
   "outputs": [
    {
     "name": "stdout",
     "output_type": "stream",
     "text": [
      "2\n",
      "4\n"
     ]
    }
   ],
   "source": [
    "print(Pdict['LeBronJames'])\n",
    "print(Sdict['2009'])"
   ]
  },
  {
   "cell_type": "code",
   "execution_count": 41,
   "metadata": {},
   "outputs": [
    {
     "name": "stdout",
     "output_type": "stream",
     "text": [
      "15779912\n",
      "15779912\n"
     ]
    }
   ],
   "source": [
    "print(Salary[2][4])\n",
    "print(Salary[Pdict['LeBronJames']][Sdict['2009']])"
   ]
  },
  {
   "cell_type": "code",
   "execution_count": 43,
   "metadata": {},
   "outputs": [
    {
     "data": {
      "text/plain": [
       "array([[978, 813, 775, 800, 716, 740, 574, 738,  31, 266],\n",
       "       [632, 536, 647, 620, 635, 514, 423, 445, 462, 446],\n",
       "       [875, 772, 794, 789, 768, 758, 621, 765, 767, 624],\n",
       "       [756, 691, 728, 535, 688, 684, 441, 669, 743, 358],\n",
       "       [468, 526, 583, 560, 510, 619, 416, 470, 473, 251],\n",
       "       [549, 543, 507, 615, 600, 524, 393, 485, 492, 343],\n",
       "       [407, 381, 630, 631, 314, 430, 425, 412, 406, 568],\n",
       "       [306, 306, 587, 661, 794, 711, 643, 731, 849, 238],\n",
       "       [208, 208, 208, 574, 672, 711, 302,   0,  58, 338],\n",
       "       [699, 472, 439, 854, 719, 692, 416, 569, 415, 509]])"
      ]
     },
     "execution_count": 43,
     "metadata": {},
     "output_type": "execute_result"
    }
   ],
   "source": [
    "FieldGoals"
   ]
  },
  {
   "cell_type": "code",
   "execution_count": 44,
   "metadata": {},
   "outputs": [
    {
     "data": {
      "text/plain": [
       "array([[80, 77, 82, 82, 73, 82, 58, 78,  6, 35],\n",
       "       [82, 57, 82, 79, 76, 72, 60, 72, 79, 80],\n",
       "       [79, 78, 75, 81, 76, 79, 62, 76, 77, 69],\n",
       "       [80, 65, 77, 66, 69, 77, 55, 67, 77, 40],\n",
       "       [82, 82, 82, 79, 82, 78, 54, 76, 71, 41],\n",
       "       [70, 69, 67, 77, 70, 77, 57, 74, 79, 44],\n",
       "       [78, 64, 80, 78, 45, 80, 60, 70, 62, 82],\n",
       "       [35, 35, 80, 74, 82, 78, 66, 81, 81, 27],\n",
       "       [40, 40, 40, 81, 78, 81, 39,  0, 10, 51],\n",
       "       [75, 51, 51, 79, 77, 76, 49, 69, 54, 62]])"
      ]
     },
     "execution_count": 44,
     "metadata": {},
     "output_type": "execute_result"
    }
   ],
   "source": [
    "Games"
   ]
  },
  {
   "cell_type": "code",
   "execution_count": 53,
   "metadata": {},
   "outputs": [
    {
     "data": {
      "text/plain": [
       "array([[12., 11.,  9., 10., 10.,  9., 10.,  9.,  5.,  8.],\n",
       "       [ 8.,  9.,  8.,  8.,  8.,  7.,  7.,  6.,  6.,  6.],\n",
       "       [11., 10., 11., 10., 10., 10., 10., 10., 10.,  9.],\n",
       "       [ 9., 11.,  9.,  8., 10.,  9.,  8., 10., 10.,  9.],\n",
       "       [ 6.,  6.,  7.,  7.,  6.,  8.,  8.,  6.,  7.,  6.],\n",
       "       [ 8.,  8.,  8.,  8.,  9.,  7.,  7.,  7.,  6.,  8.],\n",
       "       [ 5.,  6.,  8.,  8.,  7.,  5.,  7.,  6.,  7.,  7.],\n",
       "       [ 9.,  9.,  7.,  9., 10.,  9., 10.,  9., 10.,  9.],\n",
       "       [ 5.,  5.,  5.,  7.,  9.,  9.,  8., nan,  6.,  7.],\n",
       "       [ 9.,  9.,  9., 11.,  9.,  9.,  8.,  8.,  8.,  8.]])"
      ]
     },
     "execution_count": 53,
     "metadata": {},
     "output_type": "execute_result"
    }
   ],
   "source": [
    "import warnings\n",
    "warnings.filterwarnings('ignore') # 0'a bolumden olusan hatayi engellemek icin\n",
    "\n",
    "FieldGoalsPerGame = np.matrix.round(FieldGoals / Games) #yuvarlama \n",
    "FieldGoalsPerGame"
   ]
  },
  {
   "cell_type": "code",
   "execution_count": 58,
   "metadata": {},
   "outputs": [
    {
     "data": {
      "text/plain": [
       "10.0"
      ]
     },
     "execution_count": 58,
     "metadata": {},
     "output_type": "execute_result"
    }
   ],
   "source": [
    "FieldGoalsPerGame[Pdict['KobeBryant']][Sdict['2009']]"
   ]
  },
  {
   "cell_type": "code",
   "execution_count": 59,
   "metadata": {},
   "outputs": [
    {
     "data": {
      "text/plain": [
       "array([[41., 41., 39., 36., 39., 34., 38., 39., 30., 34.],\n",
       "       [41., 41., 41., 40., 38., 35., 35., 37., 33., 35.],\n",
       "       [43., 41., 40., 38., 39., 39., 38., 38., 38., 36.],\n",
       "       [37., 38., 36., 34., 38., 36., 34., 37., 39., 36.],\n",
       "       [37., 37., 38., 36., 35., 38., 38., 36., 34., 30.],\n",
       "       [39., 39., 36., 38., 36., 36., 35., 33., 32., 35.],\n",
       "       [36., 37., 38., 38., 38., 36., 36., 33., 35., 35.],\n",
       "       [36., 36., 35., 39., 40., 39., 39., 39., 39., 34.],\n",
       "       [29., 29., 29., 37., 37., 37., 35., nan, 31., 30.],\n",
       "       [39., 38., 38., 39., 36., 37., 33., 35., 33., 32.]])"
      ]
     },
     "execution_count": 59,
     "metadata": {},
     "output_type": "execute_result"
    }
   ],
   "source": [
    "np.matrix.round(MinutesPlayed / Games)"
   ]
  },
  {
   "cell_type": "code",
   "execution_count": 82,
   "metadata": {},
   "outputs": [],
   "source": [
    "PlayerAccuracy = np.matrix.round(FieldGoals / FieldGoalAttempts, 2)*100"
   ]
  },
  {
   "cell_type": "code",
   "execution_count": 83,
   "metadata": {},
   "outputs": [
    {
     "data": {
      "text/plain": [
       "array([[45., 46., 46., 47., 46., 45., 43., 46., 42., 37.],\n",
       "       [45., 47., 43., 44., 46., 44., 45., 42., 45., 44.],\n",
       "       [48., 48., 48., 49., 50., 51., 53., 56., 57., 49.],\n",
       "       [48., 48., 49., 44., 46., 46., 43., 45., 45., 44.],\n",
       "       [53., 60., 60., 57., 61., 59., 57., 58., 59., 59.],\n",
       "       [51., 50., 49., 49., 52., 50., 49., 53., 52., 46.],\n",
       "       [43., 44., 49., 50., 49., 46., 48., 48., 47., 49.],\n",
       "       [47., 47., 43., 48., 48., 46., 50., 51., 50., 51.],\n",
       "       [48., 48., 48., 48., 49., 45., 43., nan, 35., 40.],\n",
       "       [49., 49., 47., 49., 48., 50., 50., 52., 55., 47.]])"
      ]
     },
     "execution_count": 83,
     "metadata": {},
     "output_type": "execute_result"
    }
   ],
   "source": [
    "PlayerAccuracy"
   ]
  },
  {
   "cell_type": "markdown",
   "metadata": {},
   "source": [
    "---\n"
   ]
  },
  {
   "cell_type": "code",
   "execution_count": 81,
   "metadata": {},
   "outputs": [],
   "source": [
    "#Visualization"
   ]
  },
  {
   "cell_type": "code",
   "execution_count": 84,
   "metadata": {},
   "outputs": [],
   "source": [
    "import numpy as np\n",
    "import matplotlib.pyplot as plt"
   ]
  },
  {
   "cell_type": "code",
   "execution_count": 112,
   "metadata": {},
   "outputs": [],
   "source": [
    "%matplotlib inline\n",
    "plt.rcParams['figure.figsize'] = 8,4 #grafigin buyuklugu"
   ]
  },
  {
   "cell_type": "code",
   "execution_count": 123,
   "metadata": {},
   "outputs": [
    {
     "data": {
      "image/png": "[encoded data removed]",
      "text/plain": [
       "<matplotlib.figure.Figure at 0x21ace9d1278>"
      ]
     },
     "metadata": {},
     "output_type": "display_data"
    }
   ],
   "source": [
    "plt.plot(Salary[Pdict['KevinDurant']], c='Purple', ls='--', marker='s', ms=7, label=Players[Pdict['KevinDurant']])\n",
    "         #Salary[7]                                                             label = Players[7]\n",
    "# c -> renk \n",
    "# ls -> stili\n",
    "# marker -> 's' square koydu\n",
    "# ms -> karelerin buyuklugu\n",
    "\n",
    "plt.xticks(list(range(0,10)),Seasons, rotation = 'vertical')\n",
    "\n",
    "plt.show()\n"
   ]
  },
  {
   "cell_type": "code",
   "execution_count": 124,
   "metadata": {},
   "outputs": [
    {
     "data": {
      "text/plain": [
       "array([       0,        0,  4171200,  4484040,  4796880,  6053663,\n",
       "       15506632, 16669630, 17832627, 18995624])"
      ]
     },
     "execution_count": 124,
     "metadata": {},
     "output_type": "execute_result"
    }
   ],
   "source": [
    "Salary[7]"
   ]
  },
  {
   "cell_type": "markdown",
   "metadata": {},
   "source": [
    "---"
   ]
  },
  {
   "cell_type": "code",
   "execution_count": 143,
   "metadata": {
    "scrolled": true
   },
   "outputs": [
    {
     "data": {
      "image/png": "[encoded data removed]",
      "text/plain": [
       "<matplotlib.figure.Figure at 0x21ace9a6cf8>"
      ]
     },
     "metadata": {},
     "output_type": "display_data"
    }
   ],
   "source": [
    "plt.plot(Salary[0], c='Orange', ls='--', marker='^', ms=10, label=Players[0])\n",
    "plt.plot(Salary[1], c='Blue', ls='--', marker='s', ms=7, label=Players[1])\n",
    "plt.plot(Salary[2], c='Green', ls='--', marker='D', ms=7, label=Players[2])\n",
    "plt.plot(Salary[3], c='Black', ls='--', marker='o', ms=7, label=Players[3])\n",
    "plt.plot(Salary[4], c='Magenta', ls='--', marker='^', ms=7, label=Players[4])\n",
    "plt.plot(Salary[5], c='Purple', ls='--', marker='8', ms=7, label=Players[5])\n",
    "plt.plot(Salary[6], c='Black', ls='--', marker='o', ms=7, label=Players[6])\n",
    "plt.plot(Salary[7], c='Brown', ls='--', marker='D', ms=7, label=Players[7])\n",
    "plt.plot(Salary[8], c='Pink', ls='--', marker='s', ms=7, label=Players[8])\n",
    "plt.plot(Salary[9], c='Yellow', ls='--', marker='o', ms=7, label=Players[9])\n",
    "plt.legend(loc='upper left', bbox_to_anchor = (1,1))\n",
    "\n",
    "plt.xticks(list(range(0,10)), Seasons, rotation = 'vertical')\n",
    "plt.show()"
   ]
  },
  {
   "cell_type": "code",
   "execution_count": 142,
   "metadata": {},
   "outputs": [
    {
     "data": {
      "image/png": "[encoded data removed]",
      "text/plain": [
       "<matplotlib.figure.Figure at 0x21ace999c88>"
      ]
     },
     "metadata": {},
     "output_type": "display_data"
    }
   ],
   "source": [
    "plt.plot(Games[0], c='Orange', ls='--', marker='^', ms=10, label=Players[0])\n",
    "plt.plot(Games[1], c='Blue', ls='--', marker='s', ms=7, label=Players[1])\n",
    "plt.plot(Games[2], c='Green', ls='--', marker='D', ms=7, label=Players[2])\n",
    "plt.plot(Games[3], c='Black', ls='--', marker='o', ms=7, label=Players[3])\n",
    "plt.plot(Games[4], c='Magenta', ls='--', marker='^', ms=7, label=Players[4])\n",
    "plt.plot(Games[5], c='Purple', ls='--', marker='8', ms=7, label=Players[5])\n",
    "plt.plot(Games[6], c='Black', ls='--', marker='o', ms=7, label=Players[6])\n",
    "plt.plot(Games[7], c='Brown', ls='--', marker='D', ms=7, label=Players[7])\n",
    "plt.plot(Games[8], c='Pink', ls='--', marker='s', ms=7, label=Players[8])\n",
    "plt.plot(Games[9], c='Yellow', ls='--', marker='o', ms=7, label=Players[9])\n",
    "plt.legend(loc='upper left', bbox_to_anchor = (1,1))\n",
    "\n",
    "plt.xticks(list(range(0,10)), Seasons, rotation = 'vertical')\n",
    "plt.show()"
   ]
  },
  {
   "cell_type": "code",
   "execution_count": null,
   "metadata": {},
   "outputs": [],
   "source": []
  }
 ],
 "metadata": {
  "kernelspec": {
   "display_name": "Python 3",
   "language": "python",
   "name": "python3"
  },
  "language_info": {
   "codemirror_mode": {
    "name": "ipython",
    "version": 3
   },
   "file_extension": ".py",
   "mimetype": "text/x-python",
   "name": "python",
   "nbconvert_exporter": "python",
   "pygments_lexer": "ipython3",
   "version": "3.6.4"
  }
 },
 "nbformat": 4,
 "nbformat_minor": 2
}
