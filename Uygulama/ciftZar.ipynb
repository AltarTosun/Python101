{
 "cells": [
  {
   "cell_type": "code",
   "execution_count": null,
   "metadata": {},
   "outputs": [],
   "source": [
    "import numpy as np\n",
    "from numpy.random import randint"
   ]
  },
  {
   "cell_type": "code",
   "execution_count": null,
   "metadata": {},
   "outputs": [],
   "source": [
    "zar1 = randint(1,7)\n",
    "zar2 = randint(1,7) "
   ]
  },
  {
   "cell_type": "code",
   "execution_count": null,
   "metadata": {},
   "outputs": [],
   "source": [
    "while(zar1 != zar2):\n",
    "    zar1 = randint(1,7)\n",
    "    zar2 = randint(1,7)"
   ]
  },
  {
   "cell_type": "code",
   "execution_count": null,
   "metadata": {},
   "outputs": [],
   "source": [
    "print('zar1 ', zar1)\n",
    "print('zar2 ', zar2)"
   ]
  },
  {
   "cell_type": "code",
   "execution_count": null,
   "metadata": {},
   "outputs": [],
   "source": [
    "if zar1 == 1:\n",
    "    print('Hep Yek')\n",
    "    \n",
    "elif zar1 == 2:\n",
    "    print('Dubara')\n",
    "        \n",
    "elif zar1 == 3:\n",
    "    print('Dü Se')\n",
    "            \n",
    "elif zar1 == 4:\n",
    "    print('Dört Cihar')\n",
    "                \n",
    "elif zar1 == 5:\n",
    "    print('Dü Beş')\n",
    "                    \n",
    "elif zar1 == 6:\n",
    "    print('Dü Şeş')\n",
    "                            \n",
    "else:\n",
    "    print('Gecersiz deger')      "
   ]
  },
  {
   "cell_type": "code",
   "execution_count": null,
   "metadata": {},
   "outputs": [],
   "source": []
  }
 ],
 "metadata": {
  "kernelspec": {
   "display_name": "Python 3",
   "language": "python",
   "name": "python3"
  },
  "language_info": {
   "codemirror_mode": {
    "name": "ipython",
    "version": 3
   },
   "file_extension": ".py",
   "mimetype": "text/x-python",
   "name": "python",
   "nbconvert_exporter": "python",
   "pygments_lexer": "ipython3",
   "version": "3.6.4"
  }
 },
 "nbformat": 4,
 "nbformat_minor": 2
}
