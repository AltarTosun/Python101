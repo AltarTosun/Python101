{
 "cells": [
  {
   "cell_type": "code",
   "execution_count": null,
   "metadata": {},
   "outputs": [],
   "source": [
    "import numpy as np\n",
    "from numpy.random import randint"
   ]
  },
  {
   "cell_type": "code",
   "execution_count": null,
   "metadata": {},
   "outputs": [],
   "source": [
    "sayi = randint(1,100)\n",
    "tahminSayar = 0\n",
    "sayi"
   ]
  },
  {
   "cell_type": "code",
   "execution_count": null,
   "metadata": {},
   "outputs": [],
   "source": [
    "print('1-100 arasinda bir sayi tuttum')\n",
    "\n",
    "while True:\n",
    "    tahmin = int(input('Hadi tahmin et!')) #integer'a donusturmek\n",
    "    tahminSayar += 1\n",
    "   \n",
    "    if sayi < tahmin:\n",
    "        if abs(tahmin-sayi) > 10:\n",
    "            print('Daha kucuk bir sayi dene')\n",
    "        else:\n",
    "            print('Yaklastin! Biraz daha kucuk bir sayi dene')\n",
    "        continue\n",
    "    elif sayi > tahmin:\n",
    "        if abs(tahmin-sayi) > 10:\n",
    "            print('Daha buyuk bir sayi dene')\n",
    "        else:\n",
    "            print('Yaklastin! Biraz daha buyuk bir sayi dene')\n",
    "        continue\n",
    "    else:\n",
    "        print('Tebrikler dogru tahmin ettiniz')\n",
    "        print('{0} kerede sayiyi buldunuz'.format(tahminSayar))\n",
    "        break\n",
    "    "
   ]
  },
  {
   "cell_type": "code",
   "execution_count": null,
   "metadata": {},
   "outputs": [],
   "source": []
  }
 ],
 "metadata": {
  "kernelspec": {
   "display_name": "Python 3",
   "language": "python",
   "name": "python3"
  },
  "language_info": {
   "codemirror_mode": {
    "name": "ipython",
    "version": 3
   },
   "file_extension": ".py",
   "mimetype": "text/x-python",
   "name": "python",
   "nbconvert_exporter": "python",
   "pygments_lexer": "ipython3",
   "version": "3.6.4"
  }
 },
 "nbformat": 4,
 "nbformat_minor": 2
}
