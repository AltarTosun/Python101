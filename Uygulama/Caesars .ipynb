{
 "cells": [
  {
   "cell_type": "code",
   "execution_count": null,
   "metadata": {},
   "outputs": [],
   "source": [
    "import string, sys"
   ]
  },
  {
   "cell_type": "code",
   "execution_count": null,
   "metadata": {},
   "outputs": [],
   "source": [
    "def caesars_cipher_encoding(s,k, lowercase = True, uppercase = False):\n",
    "    if lowercase:\n",
    "        alphas = list(string.ascii_lowercase)\n",
    "    elif uppercase:\n",
    "        alphas = list(string.ascii_uppercase)\n",
    "    \n",
    "    encrypted = \"\"\n",
    "    char_s = list(s)\n",
    "    \n",
    "    for char in char_s:\n",
    "        if char == \" \":\n",
    "            encrypted += \" \"\n",
    "        else:\n",
    "            n_index = k + alphas.index(char)\n",
    "            if n_index > 25:\n",
    "                while not n_index <= 25:\n",
    "                    n_index = n_index - 26\n",
    "                encrytped += alphas[n_index]\n",
    "            else:\n",
    "                encrypted += alphas[n_index]\n",
    "    return encrypted"
   ]
  },
  {
   "cell_type": "code",
   "execution_count": null,
   "metadata": {},
   "outputs": [],
   "source": [
    "i = 0\n",
    "while True:\n",
    "    inputstr = input(\"[{}] Exit(press e), To continue(press c): \".format(i))\n",
    "    if inputstr.lower() == \"c\":\n",
    "        i += 1\n",
    "        S,K = input(\"\\nString: \"), int(input(\"Key : \"))\n",
    "        print(\"\\nOriginal string: \" + S + \" , Key: \" + str(K))\n",
    "        print(\"Encrypted text: \" + caesars_cipher_encoding(S, K, True, False) + '\\n')\n",
    "\n",
    "    else: \n",
    "        sys.exit()"
   ]
  },
  {
   "cell_type": "code",
   "execution_count": null,
   "metadata": {},
   "outputs": [],
   "source": []
  },
  {
   "cell_type": "code",
   "execution_count": null,
   "metadata": {},
   "outputs": [],
   "source": []
  }
 ],
 "metadata": {
  "kernelspec": {
   "display_name": "Python 3",
   "language": "python",
   "name": "python3"
  },
  "language_info": {
   "codemirror_mode": {
    "name": "ipython",
    "version": 3
   },
   "file_extension": ".py",
   "mimetype": "text/x-python",
   "name": "python",
   "nbconvert_exporter": "python",
   "pygments_lexer": "ipython3",
   "version": "3.6.4"
  }
 },
 "nbformat": 4,
 "nbformat_minor": 2
}
