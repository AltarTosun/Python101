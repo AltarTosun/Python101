{
 "cells": [
  {
   "cell_type": "code",
   "execution_count": null,
   "metadata": {},
   "outputs": [],
   "source": [
    "#Data \n",
    "gelirler = [14574.49, 7606.46, 8611.41, 9175.41, 8058.65, 8105.44, 11496.28, 9766.09, 10305.32, 14379.96, 10713.97, 15433.50]\n",
    "giderler = [12051.82, 5695.07, 12319.20, 12089.72, 8658.57, 840.20, 3285.73, 5821.12, 6976.93, 16618.61, 10054.37, 3803.96]"
   ]
  },
  {
   "cell_type": "code",
   "execution_count": null,
   "metadata": {},
   "outputs": [],
   "source": [
    "kar = []\n",
    "\n",
    "for i in range(0, len(gelirler)):\n",
    "    kar.append(gelirler[i] - giderler[i])\n",
    "kar"
   ]
  },
  {
   "cell_type": "code",
   "execution_count": null,
   "metadata": {},
   "outputs": [],
   "source": [
    "vergi = [round(i * 0.3, 2) for i in kar] #vergi %3\n",
    "vergi"
   ]
  },
  {
   "cell_type": "code",
   "execution_count": null,
   "metadata": {},
   "outputs": [],
   "source": [
    "vergiSonrasi_kar = []\n",
    "\n",
    "for i in range(0, len(kar)):\n",
    "    vergiSonrasi_kar.append(kar[i] - vergi[i])\n",
    "vergiSonrasi_kar"
   ]
  },
  {
   "cell_type": "code",
   "execution_count": null,
   "metadata": {},
   "outputs": [],
   "source": [
    "kar_marjin = []\n",
    "\n",
    "for i in range(0, len(kar)):\n",
    "    kar_marjin.append(vergiSonrasi_kar[i] / gelirler[i])\n",
    "\n",
    "kar_marjin = [round((i * 100), 2) for i in kar_marjin]\n",
    "kar_marjin"
   ]
  },
  {
   "cell_type": "code",
   "execution_count": null,
   "metadata": {},
   "outputs": [],
   "source": [
    "ort_kar = sum(vergiSonrasi_kar) / len(gelirler)\n",
    "ort_kar"
   ]
  },
  {
   "cell_type": "code",
   "execution_count": null,
   "metadata": {},
   "outputs": [],
   "source": [
    "aylar = {1:'Ocak', 2:'Subat', 3:'Mart', 4:'Nisan', 5:'Mayis', 6:'Haziran', 7:'Temmuz',\n",
    "        8: 'Agustos', 9:'Eylul', 10:'Ekim', 11:'Kasim', 12:'Aralik'}\n",
    "\n",
    "iyi_aylar = []\n",
    "\n",
    "for i in vergiSonrasi_kar:\n",
    "    if i > ort_kar:\n",
    "        iyi_aylar.append(vergiSonrasi_kar.index(i)+1)\n",
    "\n",
    "for x in iyi_aylar:\n",
    "    print(aylar[x])"
   ]
  },
  {
   "cell_type": "code",
   "execution_count": null,
   "metadata": {},
   "outputs": [],
   "source": [
    "kotu_aylar = []\n",
    "\n",
    "for i in vergiSonrasi_kar:\n",
    "    if i < ort_kar:\n",
    "        kotu_aylar.append(vergiSonrasi_kar.index(i)+1)\n",
    "\n",
    "for x in kotu_aylar:\n",
    "    print(aylar[x])"
   ]
  },
  {
   "cell_type": "code",
   "execution_count": null,
   "metadata": {},
   "outputs": [],
   "source": [
    "eniyi_ay = []\n",
    "\n",
    "for i in vergiSonrasi_kar:\n",
    "    if i == max(vergiSonrasi_kar):\n",
    "        eniyi_ay.append(vergiSonrasi_kar.index(i)+1)\n",
    "\n",
    "for x in eniyi_ay:\n",
    "    print(aylar[x])"
   ]
  },
  {
   "cell_type": "code",
   "execution_count": null,
   "metadata": {},
   "outputs": [],
   "source": [
    "enkotu_ay = []\n",
    "\n",
    "for i in vergiSonrasi_kar:\n",
    "    if i == min(vergiSonrasi_kar):\n",
    "        enkotu_ay.append(vergiSonrasi_kar.index(i)+1)\n",
    "\n",
    "for x in enkotu_ay:\n",
    "    print(aylar[x])"
   ]
  },
  {
   "cell_type": "code",
   "execution_count": null,
   "metadata": {},
   "outputs": [],
   "source": []
  }
 ],
 "metadata": {
  "kernelspec": {
   "display_name": "Python 3",
   "language": "python",
   "name": "python3"
  },
  "language_info": {
   "codemirror_mode": {
    "name": "ipython",
    "version": 3
   },
   "file_extension": ".py",
   "mimetype": "text/x-python",
   "name": "python",
   "nbconvert_exporter": "python",
   "pygments_lexer": "ipython3",
   "version": "3.6.4"
  }
 },
 "nbformat": 4,
 "nbformat_minor": 2
}
